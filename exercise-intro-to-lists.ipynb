{
 "cells": [
  {
   "cell_type": "markdown",
   "id": "dc6b1ad0",
   "metadata": {
    "papermill": {
     "duration": 0.004166,
     "end_time": "2025-02-26T12:52:07.379016",
     "exception": false,
     "start_time": "2025-02-26T12:52:07.374850",
     "status": "completed"
    },
    "tags": []
   },
   "source": [
    "**This notebook is an exercise in the [Intro to Programming](https://www.kaggle.com/learn/intro-to-programming) course.  You can reference the tutorial at [this link](https://www.kaggle.com/alexisbcook/intro-to-lists).**\n",
    "\n",
    "---\n"
   ]
  },
  {
   "cell_type": "markdown",
   "id": "f2d61baa",
   "metadata": {
    "papermill": {
     "duration": 0.00327,
     "end_time": "2025-02-26T12:52:07.385739",
     "exception": false,
     "start_time": "2025-02-26T12:52:07.382469",
     "status": "completed"
    },
    "tags": []
   },
   "source": [
    "In the tutorial, you learned how to define and modify Python lists.  In this exercise, you will use your new knowledge to solve several problems.\n",
    "\n",
    "# Set up the notebook\n",
    "\n",
    "Run the next code cell without changes to set up the notebook."
   ]
  },
  {
   "cell_type": "code",
   "execution_count": 1,
   "id": "4c184c7e",
   "metadata": {
    "execution": {
     "iopub.execute_input": "2025-02-26T12:52:07.393379Z",
     "iopub.status.busy": "2025-02-26T12:52:07.393072Z",
     "iopub.status.idle": "2025-02-26T12:52:08.324861Z",
     "shell.execute_reply": "2025-02-26T12:52:08.324138Z"
    },
    "papermill": {
     "duration": 0.936936,
     "end_time": "2025-02-26T12:52:08.325942",
     "exception": false,
     "start_time": "2025-02-26T12:52:07.389006",
     "status": "completed"
    },
    "tags": []
   },
   "outputs": [
    {
     "name": "stdout",
     "output_type": "stream",
     "text": [
      "Setup complete.\n"
     ]
    }
   ],
   "source": [
    "from learntools.core import binder\n",
    "binder.bind(globals())\n",
    "from learntools.intro_to_programming.ex5 import *\n",
    "print('Setup complete.')"
   ]
  },
  {
   "cell_type": "markdown",
   "id": "9c5263ae",
   "metadata": {
    "papermill": {
     "duration": 0.003462,
     "end_time": "2025-02-26T12:52:08.333153",
     "exception": false,
     "start_time": "2025-02-26T12:52:08.329691",
     "status": "completed"
    },
    "tags": []
   },
   "source": [
    "# Question 1\n",
    "\n",
    "You own a restaurant with five food dishes, organized in the Python list `menu` below.  One day, you decide to:\n",
    "- remove bean soup (`'bean soup'`) from the menu, and\n",
    "- add roasted beet salad (`'roasted beet salad'`) to the menu.\n",
    "\n",
    "Implement this change to the list below.  While completing this task, \n",
    "- do not change the line that creates the `menu` list.  \n",
    "- your answer should use `.remove()` and `.append()`.  "
   ]
  },
  {
   "cell_type": "code",
   "execution_count": 2,
   "id": "8f5614e3",
   "metadata": {
    "execution": {
     "iopub.execute_input": "2025-02-26T12:52:08.340649Z",
     "iopub.status.busy": "2025-02-26T12:52:08.340363Z",
     "iopub.status.idle": "2025-02-26T12:52:08.345856Z",
     "shell.execute_reply": "2025-02-26T12:52:08.345322Z"
    },
    "papermill": {
     "duration": 0.010245,
     "end_time": "2025-02-26T12:52:08.346752",
     "exception": false,
     "start_time": "2025-02-26T12:52:08.336507",
     "status": "completed"
    },
    "tags": []
   },
   "outputs": [
    {
     "data": {
      "application/javascript": [
       "parent.postMessage({\"jupyterEvent\": \"custom.exercise_interaction\", \"data\": {\"outcomeType\": 1, \"valueTowardsCompletion\": 0.2, \"interactionType\": 1, \"questionType\": 2, \"questionId\": \"1_FoodMenu\", \"learnToolsVersion\": \"0.3.4\", \"failureMessage\": \"\", \"exceptionClass\": \"\", \"trace\": \"\"}}, \"*\")"
      ],
      "text/plain": [
       "<IPython.core.display.Javascript object>"
      ]
     },
     "metadata": {},
     "output_type": "display_data"
    },
    {
     "data": {
      "text/markdown": [
       "<span style=\"color:#33cc33\">Correct</span>"
      ],
      "text/plain": [
       "Correct"
      ]
     },
     "metadata": {},
     "output_type": "display_data"
    }
   ],
   "source": [
    "# Do not change: Initial menu for your restaurant\n",
    "menu = ['stewed meat with onions', 'bean soup', 'risotto with trout and shrimp',\n",
    "       'fish soup with cream and onion', 'gyro' ]\n",
    "menu.remove('bean soup')\n",
    "menu.append('roasted beet salad')\n",
    "\n",
    "# Do not change: Check your answer\n",
    "q1.check()"
   ]
  },
  {
   "cell_type": "code",
   "execution_count": 3,
   "id": "d9dd7578",
   "metadata": {
    "execution": {
     "iopub.execute_input": "2025-02-26T12:52:08.354426Z",
     "iopub.status.busy": "2025-02-26T12:52:08.354231Z",
     "iopub.status.idle": "2025-02-26T12:52:08.356789Z",
     "shell.execute_reply": "2025-02-26T12:52:08.356152Z"
    },
    "papermill": {
     "duration": 0.007371,
     "end_time": "2025-02-26T12:52:08.357687",
     "exception": false,
     "start_time": "2025-02-26T12:52:08.350316",
     "status": "completed"
    },
    "tags": []
   },
   "outputs": [],
   "source": [
    "# Uncomment to see a hint\n",
    "#q1.hint()\n",
    "\n",
    "# Uncomment to see the solution\n",
    "#q1.solution()"
   ]
  },
  {
   "cell_type": "markdown",
   "id": "cf63f053",
   "metadata": {
    "papermill": {
     "duration": 0.003344,
     "end_time": "2025-02-26T12:52:08.364548",
     "exception": false,
     "start_time": "2025-02-26T12:52:08.361204",
     "status": "completed"
    },
    "tags": []
   },
   "source": [
    "# Question 2\n",
    "\n",
    "The list `num_customers` contains the number of customers who came into your restaurant every day over the last month (which lasted thirty days).  Fill in values for each of the following:\n",
    "- `avg_first_seven` - average number of customers who visited in the first seven days\n",
    "- `avg_last_seven` - average number of customers who visited in the last seven days\n",
    "- `max_month` - number of customers on the day that got the most customers in the last month\n",
    "- `min_month` - number of customers on the day that got the least customers in the last month\n",
    "\n",
    "Answer this question by writing code.  For instance, if you have to find the minimum value in a list, use `min()` instead of scanning for the smallest value and directly filling in a number."
   ]
  },
  {
   "cell_type": "code",
   "execution_count": 4,
   "id": "5e819118",
   "metadata": {
    "execution": {
     "iopub.execute_input": "2025-02-26T12:52:08.372232Z",
     "iopub.status.busy": "2025-02-26T12:52:08.372002Z",
     "iopub.status.idle": "2025-02-26T12:52:08.377686Z",
     "shell.execute_reply": "2025-02-26T12:52:08.377090Z"
    },
    "papermill": {
     "duration": 0.010604,
     "end_time": "2025-02-26T12:52:08.378657",
     "exception": false,
     "start_time": "2025-02-26T12:52:08.368053",
     "status": "completed"
    },
    "tags": []
   },
   "outputs": [
    {
     "data": {
      "application/javascript": [
       "parent.postMessage({\"jupyterEvent\": \"custom.exercise_interaction\", \"data\": {\"outcomeType\": 1, \"valueTowardsCompletion\": 0.2, \"interactionType\": 1, \"questionType\": 1, \"questionId\": \"2_NumCustomers\", \"learnToolsVersion\": \"0.3.4\", \"failureMessage\": \"\", \"exceptionClass\": \"\", \"trace\": \"\"}}, \"*\")"
      ],
      "text/plain": [
       "<IPython.core.display.Javascript object>"
      ]
     },
     "metadata": {},
     "output_type": "display_data"
    },
    {
     "data": {
      "text/markdown": [
       "<span style=\"color:#33cc33\">Correct</span>"
      ],
      "text/plain": [
       "Correct"
      ]
     },
     "metadata": {},
     "output_type": "display_data"
    }
   ],
   "source": [
    "# Do not change: Number of customers each day for the last month\n",
    "num_customers = [137, 147, 135, 128, 170, 174, 165, 146, 126, 159,\n",
    "                 141, 148, 132, 147, 168, 153, 170, 161, 148, 152,\n",
    "                 141, 151, 131, 149, 164, 163, 143, 143, 166, 171]\n",
    "\n",
    "# TODO: Fill in values for the variables below\n",
    "avg_first_seven = sum(num_customers[:7])/7\n",
    "avg_last_seven = sum(num_customers[-7:])/7\n",
    "max_month = max(num_customers)\n",
    "min_month = min(num_customers)\n",
    "\n",
    "# Do not change: Check your answer\n",
    "q2.check()"
   ]
  },
  {
   "cell_type": "code",
   "execution_count": 5,
   "id": "164dd85d",
   "metadata": {
    "execution": {
     "iopub.execute_input": "2025-02-26T12:52:08.386820Z",
     "iopub.status.busy": "2025-02-26T12:52:08.386651Z",
     "iopub.status.idle": "2025-02-26T12:52:08.388862Z",
     "shell.execute_reply": "2025-02-26T12:52:08.388361Z"
    },
    "papermill": {
     "duration": 0.007272,
     "end_time": "2025-02-26T12:52:08.389789",
     "exception": false,
     "start_time": "2025-02-26T12:52:08.382517",
     "status": "completed"
    },
    "tags": []
   },
   "outputs": [],
   "source": [
    "# Uncomment to see a hint\n",
    "#q2.hint()\n",
    "\n",
    "# Uncomment to see the solution\n",
    "#q2.solution()"
   ]
  },
  {
   "cell_type": "markdown",
   "id": "f6fb1f29",
   "metadata": {
    "papermill": {
     "duration": 0.003573,
     "end_time": "2025-02-26T12:52:08.397099",
     "exception": false,
     "start_time": "2025-02-26T12:52:08.393526",
     "status": "completed"
    },
    "tags": []
   },
   "source": [
    "# Question 3\n",
    "\n",
    "In the tutorial, we gave an example of a Python string with information that was better as a list."
   ]
  },
  {
   "cell_type": "code",
   "execution_count": 6,
   "id": "0e6aaed8",
   "metadata": {
    "execution": {
     "iopub.execute_input": "2025-02-26T12:52:08.405071Z",
     "iopub.status.busy": "2025-02-26T12:52:08.404878Z",
     "iopub.status.idle": "2025-02-26T12:52:08.407626Z",
     "shell.execute_reply": "2025-02-26T12:52:08.406994Z"
    },
    "papermill": {
     "duration": 0.007809,
     "end_time": "2025-02-26T12:52:08.408629",
     "exception": false,
     "start_time": "2025-02-26T12:52:08.400820",
     "status": "completed"
    },
    "tags": []
   },
   "outputs": [],
   "source": [
    "flowers = \"pink primrose,hard-leaved pocket orchid,canterbury bells,sweet pea,english marigold,tiger lily,moon orchid,bird of paradise,monkshood,globe thistle\""
   ]
  },
  {
   "cell_type": "markdown",
   "id": "3cd2bfbe",
   "metadata": {
    "papermill": {
     "duration": 0.003562,
     "end_time": "2025-02-26T12:52:08.415904",
     "exception": false,
     "start_time": "2025-02-26T12:52:08.412342",
     "status": "completed"
    },
    "tags": []
   },
   "source": [
    "You can actually use Python to quickly turn this string into a list with `.split()`.  In the parentheses, we need to provide the character should be used to mark the end of one list item and the beginning of another, and enclose it in quotation marks.  In this case, that character is a comma."
   ]
  },
  {
   "cell_type": "code",
   "execution_count": 7,
   "id": "b5866be9",
   "metadata": {
    "execution": {
     "iopub.execute_input": "2025-02-26T12:52:08.423682Z",
     "iopub.status.busy": "2025-02-26T12:52:08.423519Z",
     "iopub.status.idle": "2025-02-26T12:52:08.426666Z",
     "shell.execute_reply": "2025-02-26T12:52:08.426088Z"
    },
    "papermill": {
     "duration": 0.008058,
     "end_time": "2025-02-26T12:52:08.427586",
     "exception": false,
     "start_time": "2025-02-26T12:52:08.419528",
     "status": "completed"
    },
    "tags": []
   },
   "outputs": [
    {
     "name": "stdout",
     "output_type": "stream",
     "text": [
      "['pink primrose', 'hard-leaved pocket orchid', 'canterbury bells', 'sweet pea', 'english marigold', 'tiger lily', 'moon orchid', 'bird of paradise', 'monkshood', 'globe thistle']\n"
     ]
    }
   ],
   "source": [
    " print(flowers.split(\",\"))"
   ]
  },
  {
   "cell_type": "markdown",
   "id": "a2ad79ee",
   "metadata": {
    "papermill": {
     "duration": 0.003713,
     "end_time": "2025-02-26T12:52:08.435044",
     "exception": false,
     "start_time": "2025-02-26T12:52:08.431331",
     "status": "completed"
    },
    "tags": []
   },
   "source": [
    "Now it is your turn to try this out!  Create two Python lists:\n",
    "- `letters` should be a Python list where each entry is an uppercase letter of the English alphabet.  For instance, the first two entries should be `\"A\"` and `\"B\"`, and the final two entries should be `\"Y\"` and `\"Z\"`.  Use the string `alphabet` to create this list.\n",
    "- `address` should be a Python list where each row in `address` is a different item in the list.  Currently, each row in `address` is separated by a comma. "
   ]
  },
  {
   "cell_type": "code",
   "execution_count": 8,
   "id": "6b7411cd",
   "metadata": {
    "execution": {
     "iopub.execute_input": "2025-02-26T12:52:08.443007Z",
     "iopub.status.busy": "2025-02-26T12:52:08.442841Z",
     "iopub.status.idle": "2025-02-26T12:52:08.447653Z",
     "shell.execute_reply": "2025-02-26T12:52:08.447126Z"
    },
    "papermill": {
     "duration": 0.009923,
     "end_time": "2025-02-26T12:52:08.448680",
     "exception": false,
     "start_time": "2025-02-26T12:52:08.438757",
     "status": "completed"
    },
    "tags": []
   },
   "outputs": [
    {
     "data": {
      "application/javascript": [
       "parent.postMessage({\"jupyterEvent\": \"custom.exercise_interaction\", \"data\": {\"outcomeType\": 1, \"valueTowardsCompletion\": 0.2, \"interactionType\": 1, \"questionType\": 1, \"questionId\": \"3_SplitString\", \"learnToolsVersion\": \"0.3.4\", \"failureMessage\": \"\", \"exceptionClass\": \"\", \"trace\": \"\"}}, \"*\")"
      ],
      "text/plain": [
       "<IPython.core.display.Javascript object>"
      ]
     },
     "metadata": {},
     "output_type": "display_data"
    },
    {
     "data": {
      "text/markdown": [
       "<span style=\"color:#33cc33\">Correct</span>"
      ],
      "text/plain": [
       "Correct"
      ]
     },
     "metadata": {},
     "output_type": "display_data"
    }
   ],
   "source": [
    "# DO not change: Define two Python strings\n",
    "alphabet = \"A.B.C.D.E.F.G.H.I.J.K.L.M.N.O.P.Q.R.S.T.U.V.W.X.Y.Z\"\n",
    "address = \"Mr. H. Potter,The cupboard under the Stairs,4 Privet Drive,Little Whinging,Surrey\"\n",
    "\n",
    "\n",
    "letters = alphabet.split(\".\")\n",
    "formatted_address = address.split(\",\")\n",
    "\n",
    "# Do not change: Check your answer\n",
    "q3.check()"
   ]
  },
  {
   "cell_type": "code",
   "execution_count": 9,
   "id": "2662e697",
   "metadata": {
    "execution": {
     "iopub.execute_input": "2025-02-26T12:52:08.457231Z",
     "iopub.status.busy": "2025-02-26T12:52:08.457046Z",
     "iopub.status.idle": "2025-02-26T12:52:08.459351Z",
     "shell.execute_reply": "2025-02-26T12:52:08.458795Z"
    },
    "papermill": {
     "duration": 0.007717,
     "end_time": "2025-02-26T12:52:08.460415",
     "exception": false,
     "start_time": "2025-02-26T12:52:08.452698",
     "status": "completed"
    },
    "tags": []
   },
   "outputs": [],
   "source": [
    "# Uncomment to see a hint\n",
    "#q3.hint()\n",
    "\n",
    "# Uncomment to see the solution\n",
    "#q3.solution()"
   ]
  },
  {
   "cell_type": "markdown",
   "id": "26fc2fb5",
   "metadata": {
    "papermill": {
     "duration": 0.003781,
     "end_time": "2025-02-26T12:52:08.468258",
     "exception": false,
     "start_time": "2025-02-26T12:52:08.464477",
     "status": "completed"
    },
    "tags": []
   },
   "source": [
    "# Question 4\n",
    "\n",
    "In the Python course, you'll learn all about **list comprehensions**, which allow you to create a list based on the values in another list.  In this question, you'll get a brief preview of how they work.\n",
    "\n",
    "Say we're working with the list below."
   ]
  },
  {
   "cell_type": "code",
   "execution_count": 10,
   "id": "b5ee461a",
   "metadata": {
    "execution": {
     "iopub.execute_input": "2025-02-26T12:52:08.476748Z",
     "iopub.status.busy": "2025-02-26T12:52:08.476582Z",
     "iopub.status.idle": "2025-02-26T12:52:08.479217Z",
     "shell.execute_reply": "2025-02-26T12:52:08.478615Z"
    },
    "papermill": {
     "duration": 0.008134,
     "end_time": "2025-02-26T12:52:08.480214",
     "exception": false,
     "start_time": "2025-02-26T12:52:08.472080",
     "status": "completed"
    },
    "tags": []
   },
   "outputs": [],
   "source": [
    "test_ratings = [1, 2, 3, 4, 5]"
   ]
  },
  {
   "cell_type": "markdown",
   "id": "b64b95de",
   "metadata": {
    "papermill": {
     "duration": 0.003709,
     "end_time": "2025-02-26T12:52:08.487831",
     "exception": false,
     "start_time": "2025-02-26T12:52:08.484122",
     "status": "completed"
    },
    "tags": []
   },
   "source": [
    "Then we can use this list (`test_ratings`) to create a new list (`test_liked`) where each item has been turned into a boolean, depending on whether or not the item is greater than or equal to four."
   ]
  },
  {
   "cell_type": "code",
   "execution_count": 11,
   "id": "cd094598",
   "metadata": {
    "execution": {
     "iopub.execute_input": "2025-02-26T12:52:08.496147Z",
     "iopub.status.busy": "2025-02-26T12:52:08.495972Z",
     "iopub.status.idle": "2025-02-26T12:52:08.498991Z",
     "shell.execute_reply": "2025-02-26T12:52:08.498490Z"
    },
    "papermill": {
     "duration": 0.008238,
     "end_time": "2025-02-26T12:52:08.499897",
     "exception": false,
     "start_time": "2025-02-26T12:52:08.491659",
     "status": "completed"
    },
    "tags": []
   },
   "outputs": [
    {
     "name": "stdout",
     "output_type": "stream",
     "text": [
      "[False, False, False, True, True]\n"
     ]
    }
   ],
   "source": [
    "test_liked = [i>=4 for i in test_ratings]\n",
    "print(test_liked)"
   ]
  },
  {
   "cell_type": "markdown",
   "id": "5e27c513",
   "metadata": {
    "papermill": {
     "duration": 0.00373,
     "end_time": "2025-02-26T12:52:08.507637",
     "exception": false,
     "start_time": "2025-02-26T12:52:08.503907",
     "status": "completed"
    },
    "tags": []
   },
   "source": [
    "In this question, you'll use this list comprehension to define a function `percentage_liked()` that takes one argument as input:\n",
    "- `ratings`: list of ratings that people gave to a movie, where each rating is a number between 1-5, inclusive\n",
    "\n",
    "We say someone liked the movie, if they gave a rating of either 4 or 5.  Your function should return the percentage of people who liked the movie.\n",
    "\n",
    "For instance, if we supply a value of `[1, 2, 3, 4, 5, 4, 5, 1]`, then 50% (4/8) of the people liked the movie, and the function should return `0.5`.\n",
    "\n",
    "Part of the function has already been completed for you.  You need only use `list_liked` to calculate `percentage_liked`."
   ]
  },
  {
   "cell_type": "code",
   "execution_count": 12,
   "id": "61ffec0d",
   "metadata": {
    "execution": {
     "iopub.execute_input": "2025-02-26T12:52:08.516170Z",
     "iopub.status.busy": "2025-02-26T12:52:08.515990Z",
     "iopub.status.idle": "2025-02-26T12:52:08.521096Z",
     "shell.execute_reply": "2025-02-26T12:52:08.520582Z"
    },
    "papermill": {
     "duration": 0.010474,
     "end_time": "2025-02-26T12:52:08.521974",
     "exception": false,
     "start_time": "2025-02-26T12:52:08.511500",
     "status": "completed"
    },
    "tags": []
   },
   "outputs": [
    {
     "data": {
      "application/javascript": [
       "parent.postMessage({\"jupyterEvent\": \"custom.exercise_interaction\", \"data\": {\"outcomeType\": 1, \"valueTowardsCompletion\": 0.2, \"interactionType\": 1, \"questionType\": 2, \"questionId\": \"4_PercentageLiked\", \"learnToolsVersion\": \"0.3.4\", \"failureMessage\": \"\", \"exceptionClass\": \"\", \"trace\": \"\"}}, \"*\")"
      ],
      "text/plain": [
       "<IPython.core.display.Javascript object>"
      ]
     },
     "metadata": {},
     "output_type": "display_data"
    },
    {
     "data": {
      "text/markdown": [
       "<span style=\"color:#33cc33\">Correct</span>"
      ],
      "text/plain": [
       "Correct"
      ]
     },
     "metadata": {},
     "output_type": "display_data"
    }
   ],
   "source": [
    "\n",
    "def percentage_liked(ratings):\n",
    "    list_liked = [i>=4 for i in ratings]\n",
    "    # TODO: Complete the function\n",
    "    percentage_liked = sum(list_liked)/len(list_liked)\n",
    "    return percentage_liked\n",
    "\n",
    "# Do not change: should return 0.5\n",
    "percentage_liked([1, 2, 3, 4, 5, 4, 5, 1])\n",
    "\n",
    "# Do not change: Check your answer\n",
    "q4.check()"
   ]
  },
  {
   "cell_type": "code",
   "execution_count": 13,
   "id": "5994d1ae",
   "metadata": {
    "execution": {
     "iopub.execute_input": "2025-02-26T12:52:08.530800Z",
     "iopub.status.busy": "2025-02-26T12:52:08.530604Z",
     "iopub.status.idle": "2025-02-26T12:52:08.532852Z",
     "shell.execute_reply": "2025-02-26T12:52:08.532364Z"
    },
    "papermill": {
     "duration": 0.007632,
     "end_time": "2025-02-26T12:52:08.533825",
     "exception": false,
     "start_time": "2025-02-26T12:52:08.526193",
     "status": "completed"
    },
    "tags": []
   },
   "outputs": [],
   "source": [
    "# Uncomment to see a hint\n",
    "#q4.hint()\n",
    "\n",
    "# Uncomment to see the solution\n",
    "#q4.solution()"
   ]
  },
  {
   "cell_type": "markdown",
   "id": "00fc3e2b",
   "metadata": {
    "papermill": {
     "duration": 0.004027,
     "end_time": "2025-02-26T12:52:08.541979",
     "exception": false,
     "start_time": "2025-02-26T12:52:08.537952",
     "status": "completed"
    },
    "tags": []
   },
   "source": [
    "# 🌶️ Question 5\n",
    " \n",
    "Say you're doing analytics for a website.  You need to write a function that returns the percentage growth in the total number of users relative to a specified number of years ago.\n",
    "\n",
    "Your function `percentage_growth()` should take two arguments as input:\n",
    "- `num_users` = Python list with the total number of users each year.  So `num_users[0]` is the total number of users in the first year, `num_users[1]` is the total number of users in the second year, and so on.  The final entry in the list gives the total number of users in the most recently completed year.\n",
    "- `yrs_ago` = number of years to go back in time when calculating the growth percentage\n",
    "\n",
    "For instance, say `num_users = [920344, 1043553, 1204334, 1458996, 1503323, 1593432, 1623463, 1843064, 1930992, 2001078]`.\n",
    "- if `yrs_ago = 1`, we want the function to return a value of about `0.036`. This corresponds to a percentage growth of approximately 3.6%, calculated as (2001078 - 1930992)/1930992.\n",
    "- if `years_ago = 7`, we would want to return approximately `0.66`.  This corresponds to a percentage growth of approximately 66%, calculated as (2001078 - 1204334)/1204334.\n",
    "\n",
    "Your coworker sent you a draft of a function, but it doesn't seem to be doing the correct calculation.  Can you figure out what has gone wrong and make the needed changes?"
   ]
  },
  {
   "cell_type": "code",
   "execution_count": 14,
   "id": "fce265a3",
   "metadata": {
    "execution": {
     "iopub.execute_input": "2025-02-26T12:52:08.550725Z",
     "iopub.status.busy": "2025-02-26T12:52:08.550551Z",
     "iopub.status.idle": "2025-02-26T12:52:08.556702Z",
     "shell.execute_reply": "2025-02-26T12:52:08.556179Z"
    },
    "papermill": {
     "duration": 0.011612,
     "end_time": "2025-02-26T12:52:08.557662",
     "exception": false,
     "start_time": "2025-02-26T12:52:08.546050",
     "status": "completed"
    },
    "tags": []
   },
   "outputs": [
    {
     "name": "stdout",
     "output_type": "stream",
     "text": [
      "0.03629533421163837\n",
      "0.6615639847417742\n"
     ]
    },
    {
     "data": {
      "application/javascript": [
       "parent.postMessage({\"jupyterEvent\": \"custom.exercise_interaction\", \"data\": {\"outcomeType\": 1, \"valueTowardsCompletion\": 0.2, \"interactionType\": 1, \"questionType\": 2, \"questionId\": \"5_WebsiteAnalytics\", \"learnToolsVersion\": \"0.3.4\", \"failureMessage\": \"\", \"exceptionClass\": \"\", \"trace\": \"\"}}, \"*\")"
      ],
      "text/plain": [
       "<IPython.core.display.Javascript object>"
      ]
     },
     "metadata": {},
     "output_type": "display_data"
    },
    {
     "data": {
      "text/markdown": [
       "<span style=\"color:#33cc33\">Correct</span>"
      ],
      "text/plain": [
       "Correct"
      ]
     },
     "metadata": {},
     "output_type": "display_data"
    }
   ],
   "source": [
    "# TODO: Edit the function\n",
    "def percentage_growth(num_users, yrs_ago):\n",
    "    growth = (num_users[len(num_users)-1] - num_users[len(num_users)-yrs_ago-1])/num_users[len(num_users)-yrs_ago-1]\n",
    "    return growth\n",
    "\n",
    "# Do not change: Variable for calculating some test examples\n",
    "num_users_test = [920344, 1043553, 1204334, 1458996, 1503323, 1593432, 1623463, 1843064, 1930992, 2001078]\n",
    "\n",
    "# Do not change: Should return .036\n",
    "print(percentage_growth(num_users_test, 1))\n",
    "\n",
    "# Do not change: Should return 0.66\n",
    "print(percentage_growth(num_users_test, 7))\n",
    "\n",
    "# Do not change: Check your answer\n",
    "q5.check()"
   ]
  },
  {
   "cell_type": "code",
   "execution_count": 15,
   "id": "a9f6e0c3",
   "metadata": {
    "execution": {
     "iopub.execute_input": "2025-02-26T12:52:08.566958Z",
     "iopub.status.busy": "2025-02-26T12:52:08.566721Z",
     "iopub.status.idle": "2025-02-26T12:52:08.569208Z",
     "shell.execute_reply": "2025-02-26T12:52:08.568636Z"
    },
    "papermill": {
     "duration": 0.00814,
     "end_time": "2025-02-26T12:52:08.570157",
     "exception": false,
     "start_time": "2025-02-26T12:52:08.562017",
     "status": "completed"
    },
    "tags": []
   },
   "outputs": [],
   "source": [
    "# Uncomment to see a hint\n",
    "#q5.hint()\n",
    "\n",
    "# Uncomment to see the solution\n",
    "#q5.solution()"
   ]
  },
  {
   "cell_type": "markdown",
   "id": "cd01dbf8",
   "metadata": {
    "papermill": {
     "duration": 0.004161,
     "end_time": "2025-02-26T12:52:08.578589",
     "exception": false,
     "start_time": "2025-02-26T12:52:08.574428",
     "status": "completed"
    },
    "tags": []
   },
   "source": [
    "# Congratulations!\n",
    "\n",
    "Congratulations for finishing the Intro to Programming course!  You should be proud of your very first steps with learning programming.  As next steps, we recommend taking:\n",
    "- the **[Python course](http://www.kaggle.com/learn/python)**, and \n",
    "- the **[Intro to Machine Learning course](https://www.kaggle.com/learn/intro-to-machine-learning)**."
   ]
  },
  {
   "cell_type": "markdown",
   "id": "70f71703",
   "metadata": {
    "papermill": {
     "duration": 0.003975,
     "end_time": "2025-02-26T12:52:08.586741",
     "exception": false,
     "start_time": "2025-02-26T12:52:08.582766",
     "status": "completed"
    },
    "tags": []
   },
   "source": [
    "---\n",
    "\n",
    "\n",
    "\n",
    "\n",
    "*Have questions or comments? Visit the [course discussion forum](https://www.kaggle.com/learn/intro-to-programming/discussion) to chat with other learners.*"
   ]
  }
 ],
 "metadata": {
  "kaggle": {
   "accelerator": "none",
   "dataSources": [],
   "isGpuEnabled": false,
   "isInternetEnabled": false,
   "language": "python",
   "sourceType": "notebook"
  },
  "kernelspec": {
   "display_name": "Python 3",
   "language": "python",
   "name": "python3"
  },
  "language_info": {
   "codemirror_mode": {
    "name": "ipython",
    "version": 3
   },
   "file_extension": ".py",
   "mimetype": "text/x-python",
   "name": "python",
   "nbconvert_exporter": "python",
   "pygments_lexer": "ipython3",
   "version": "3.10.12"
  },
  "papermill": {
   "default_parameters": {},
   "duration": 3.847787,
   "end_time": "2025-02-26T12:52:09.107069",
   "environment_variables": {},
   "exception": null,
   "input_path": "__notebook__.ipynb",
   "output_path": "__notebook__.ipynb",
   "parameters": {},
   "start_time": "2025-02-26T12:52:05.259282",
   "version": "2.6.0"
  }
 },
 "nbformat": 4,
 "nbformat_minor": 5
}
