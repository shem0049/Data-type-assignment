{
 "cells": [
  {
   "cell_type": "markdown",
   "id": "02f5ccaf",
   "metadata": {
    "papermill": {
     "duration": 0.006312,
     "end_time": "2025-02-26T13:40:29.764009",
     "exception": false,
     "start_time": "2025-02-26T13:40:29.757697",
     "status": "completed"
    },
    "tags": []
   },
   "source": [
    "**This notebook is an exercise in the [Intro to Programming](https://www.kaggle.com/learn/intro-to-programming) course.  You can reference the tutorial at [this link](https://www.kaggle.com/alexisbcook/data-types).**\n",
    "\n",
    "---\n"
   ]
  },
  {
   "cell_type": "markdown",
   "id": "b1b8af38",
   "metadata": {
    "papermill": {
     "duration": 0.00486,
     "end_time": "2025-02-26T13:40:29.774625",
     "exception": false,
     "start_time": "2025-02-26T13:40:29.769765",
     "status": "completed"
    },
    "tags": []
   },
   "source": [
    "In the tutorial, you learned about four different data types: floats, integers, strings, and booleans.  In this exercise, you'll experiment with them.\n",
    "\n",
    "# Set up the notebook\n",
    "\n",
    "Run the next code cell without changes to set up the notebook."
   ]
  },
  {
   "cell_type": "code",
   "execution_count": 1,
   "id": "b6543286",
   "metadata": {
    "execution": {
     "iopub.execute_input": "2025-02-26T13:40:29.785911Z",
     "iopub.status.busy": "2025-02-26T13:40:29.785545Z",
     "iopub.status.idle": "2025-02-26T13:40:30.665249Z",
     "shell.execute_reply": "2025-02-26T13:40:30.664119Z"
    },
    "papermill": {
     "duration": 0.887116,
     "end_time": "2025-02-26T13:40:30.666761",
     "exception": false,
     "start_time": "2025-02-26T13:40:29.779645",
     "status": "completed"
    },
    "tags": []
   },
   "outputs": [
    {
     "name": "stdout",
     "output_type": "stream",
     "text": [
      "Setup complete.\n"
     ]
    }
   ],
   "source": [
    "# Set up the exercise\n",
    "from learntools.core import binder\n",
    "binder.bind(globals())\n",
    "from learntools.intro_to_programming.ex3 import *\n",
    "print('Setup complete.')"
   ]
  },
  {
   "cell_type": "markdown",
   "id": "0e6969b3",
   "metadata": {
    "papermill": {
     "duration": 0.004858,
     "end_time": "2025-02-26T13:40:30.677046",
     "exception": false,
     "start_time": "2025-02-26T13:40:30.672188",
     "status": "completed"
    },
    "tags": []
   },
   "source": [
    "# Question 1\n",
    "\n",
    "You have seen how to convert a float to an integer with the `int` function.  Try this out yourself by running the code cell below."
   ]
  },
  {
   "cell_type": "code",
   "execution_count": 2,
   "id": "4a404c6c",
   "metadata": {
    "execution": {
     "iopub.execute_input": "2025-02-26T13:40:30.688851Z",
     "iopub.status.busy": "2025-02-26T13:40:30.688375Z",
     "iopub.status.idle": "2025-02-26T13:40:30.694091Z",
     "shell.execute_reply": "2025-02-26T13:40:30.693265Z"
    },
    "papermill": {
     "duration": 0.013618,
     "end_time": "2025-02-26T13:40:30.695711",
     "exception": false,
     "start_time": "2025-02-26T13:40:30.682093",
     "status": "completed"
    },
    "tags": []
   },
   "outputs": [
    {
     "name": "stdout",
     "output_type": "stream",
     "text": [
      "58.0\n",
      "<class 'float'>\n",
      "1\n",
      "<class 'int'>\n"
     ]
    }
   ],
   "source": [
    "# Define a float\n",
    "y = 58.0\n",
    "print(y)\n",
    "print(type(y))\n",
    "\n",
    "# Convert float to integer with the int function\n",
    "z = int(1.5)\n",
    "print(z)\n",
    "print(type(z))"
   ]
  },
  {
   "cell_type": "markdown",
   "id": "7820fe29",
   "metadata": {
    "papermill": {
     "duration": 0.004986,
     "end_time": "2025-02-26T13:40:30.705950",
     "exception": false,
     "start_time": "2025-02-26T13:40:30.700964",
     "status": "completed"
    },
    "tags": []
   },
   "source": [
    "In this case, the float you are using has no numbers after the decimal.  \n",
    "- But what happens when you try to convert a float with a fractional part to an integer?  \n",
    "- How does the outcome of the `int` function change for positive and negative numbers?\n",
    "\n",
    "Use the next code cell to investigate and answer these questions.  Feel free to add or remove any lines of code -- it is your workspace!"
   ]
  },
  {
   "cell_type": "code",
   "execution_count": 3,
   "id": "769fb87f",
   "metadata": {
    "execution": {
     "iopub.execute_input": "2025-02-26T13:40:30.717597Z",
     "iopub.status.busy": "2025-02-26T13:40:30.717281Z",
     "iopub.status.idle": "2025-02-26T13:40:30.722428Z",
     "shell.execute_reply": "2025-02-26T13:40:30.721318Z"
    },
    "papermill": {
     "duration": 0.012847,
     "end_time": "2025-02-26T13:40:30.724123",
     "exception": false,
     "start_time": "2025-02-26T13:40:30.711276",
     "status": "completed"
    },
    "tags": []
   },
   "outputs": [
    {
     "name": "stdout",
     "output_type": "stream",
     "text": [
      "1\n",
      "1\n",
      "-3\n",
      "-2\n"
     ]
    }
   ],
   "source": [
    "# Uncomment and run tis code to get started!\n",
    "print(int(1.2321))\n",
    "print(int(1.747))\n",
    "print(int(-3.94535))\n",
    "print(int(-2.19774))"
   ]
  },
  {
   "cell_type": "markdown",
   "id": "c07731fd",
   "metadata": {
    "papermill": {
     "duration": 0.00516,
     "end_time": "2025-02-26T13:40:30.734822",
     "exception": false,
     "start_time": "2025-02-26T13:40:30.729662",
     "status": "completed"
    },
    "tags": []
   },
   "source": [
    "Once you have an answer, run the code cell below to see the solution.  Viewing the solution will give you credit for answering the problem."
   ]
  },
  {
   "cell_type": "code",
   "execution_count": 4,
   "id": "24ec82d5",
   "metadata": {
    "execution": {
     "iopub.execute_input": "2025-02-26T13:40:30.746769Z",
     "iopub.status.busy": "2025-02-26T13:40:30.746419Z",
     "iopub.status.idle": "2025-02-26T13:40:30.754245Z",
     "shell.execute_reply": "2025-02-26T13:40:30.753219Z"
    },
    "papermill": {
     "duration": 0.015807,
     "end_time": "2025-02-26T13:40:30.755920",
     "exception": false,
     "start_time": "2025-02-26T13:40:30.740113",
     "status": "completed"
    },
    "tags": []
   },
   "outputs": [
    {
     "data": {
      "application/javascript": [
       "parent.postMessage({\"jupyterEvent\": \"custom.exercise_interaction\", \"data\": {\"outcomeType\": 1, \"valueTowardsCompletion\": 0.2, \"interactionType\": 1, \"questionType\": 4, \"questionId\": \"1_FloatToInt\", \"learnToolsVersion\": \"0.3.4\", \"failureMessage\": \"\", \"exceptionClass\": \"\", \"trace\": \"\"}}, \"*\")"
      ],
      "text/plain": [
       "<IPython.core.display.Javascript object>"
      ]
     },
     "metadata": {},
     "output_type": "display_data"
    },
    {
     "data": {
      "text/markdown": [
       "<span style=\"color:#33cc33\">Correct:</span> \n",
       "\n",
       "Negative floats are always rounded UP to the closest integer (for instance, both -1.1 and -1.9 are rounded up to -1). Positive floats are always rounded DOWN to the closest integer (for instance, 2.1 and 2.9 are rounded down to 2)."
      ],
      "text/plain": [
       "Correct: \n",
       "\n",
       "Negative floats are always rounded UP to the closest integer (for instance, both -1.1 and -1.9 are rounded up to -1). Positive floats are always rounded DOWN to the closest integer (for instance, 2.1 and 2.9 are rounded down to 2)."
      ]
     },
     "metadata": {},
     "output_type": "display_data"
    }
   ],
   "source": [
    "# Check your answer (Run this code cell to receive credit!)\n",
    "q1.check()"
   ]
  },
  {
   "cell_type": "markdown",
   "id": "a0eb4aaa",
   "metadata": {
    "papermill": {
     "duration": 0.005265,
     "end_time": "2025-02-26T13:40:30.766970",
     "exception": false,
     "start_time": "2025-02-26T13:40:30.761705",
     "status": "completed"
    },
    "tags": []
   },
   "source": [
    "# Question 2\n",
    "\n",
    "In the tutorial, you learned about booleans (which can take a value of `True` or `False`), in addition to integers, floats, and strings.  For this question, your goal is to determine what happens when you multiply a boolean by any of these data types.  Specifically, \n",
    "- What happens when you multiply an integer or float by `True`?  What happens when you multiply them by `False`?  How does the answer change if the numbers are positive or negative?\n",
    "- What happens when you multiply a string by `True`?  By `False`?\n",
    "\n",
    "Use the next code cell for your investigation. "
   ]
  },
  {
   "cell_type": "code",
   "execution_count": 5,
   "id": "6408a3b5",
   "metadata": {
    "execution": {
     "iopub.execute_input": "2025-02-26T13:40:30.779241Z",
     "iopub.status.busy": "2025-02-26T13:40:30.778881Z",
     "iopub.status.idle": "2025-02-26T13:40:30.785139Z",
     "shell.execute_reply": "2025-02-26T13:40:30.784037Z"
    },
    "papermill": {
     "duration": 0.014368,
     "end_time": "2025-02-26T13:40:30.786823",
     "exception": false,
     "start_time": "2025-02-26T13:40:30.772455",
     "status": "completed"
    },
    "tags": []
   },
   "outputs": [
    {
     "name": "stdout",
     "output_type": "stream",
     "text": [
      "0\n",
      "-3.1\n",
      "\n",
      "3\n"
     ]
    }
   ],
   "source": [
    "# Uncomment and run this code to get started!\n",
    "print(3 * False)\n",
    "print(-3.1 * True)\n",
    "print(\"abc\" * False)\n",
    "print(len(\"abc\" * True))"
   ]
  },
  {
   "cell_type": "markdown",
   "id": "74f66b08",
   "metadata": {
    "papermill": {
     "duration": 0.005257,
     "end_time": "2025-02-26T13:40:30.798180",
     "exception": false,
     "start_time": "2025-02-26T13:40:30.792923",
     "status": "completed"
    },
    "tags": []
   },
   "source": [
    "Once you have an answer, run the code cell below to see the solution.  Viewing the solution will give you credit for answering the problem."
   ]
  },
  {
   "cell_type": "code",
   "execution_count": 6,
   "id": "491a1c30",
   "metadata": {
    "execution": {
     "iopub.execute_input": "2025-02-26T13:40:30.810466Z",
     "iopub.status.busy": "2025-02-26T13:40:30.810084Z",
     "iopub.status.idle": "2025-02-26T13:40:30.817517Z",
     "shell.execute_reply": "2025-02-26T13:40:30.816508Z"
    },
    "papermill": {
     "duration": 0.015345,
     "end_time": "2025-02-26T13:40:30.819043",
     "exception": false,
     "start_time": "2025-02-26T13:40:30.803698",
     "status": "completed"
    },
    "tags": []
   },
   "outputs": [
    {
     "data": {
      "application/javascript": [
       "parent.postMessage({\"jupyterEvent\": \"custom.exercise_interaction\", \"data\": {\"outcomeType\": 1, \"valueTowardsCompletion\": 0.2, \"interactionType\": 1, \"questionType\": 4, \"questionId\": \"2_MultiplyBooleans\", \"learnToolsVersion\": \"0.3.4\", \"failureMessage\": \"\", \"exceptionClass\": \"\", \"trace\": \"\"}}, \"*\")"
      ],
      "text/plain": [
       "<IPython.core.display.Javascript object>"
      ]
     },
     "metadata": {},
     "output_type": "display_data"
    },
    {
     "data": {
      "text/markdown": [
       "<span style=\"color:#33cc33\">Correct:</span> \n",
       "\n",
       "When you multiple an integer or float by a boolean with value `True`, it just returns that same integer or float (and is equivalent to multiplying by 1).  If you multiply an integer or float by a boolean with value `False`, it always returns 0.  This is true for both positive and negative numbers.  If you multiply a string by a boolean with value `True`, it just returns that same string.  And if you multiply a string by a boolean with value `False`, it returns an empty string (or a string with length zero)."
      ],
      "text/plain": [
       "Correct: \n",
       "\n",
       "When you multiple an integer or float by a boolean with value `True`, it just returns that same integer or float (and is equivalent to multiplying by 1).  If you multiply an integer or float by a boolean with value `False`, it always returns 0.  This is true for both positive and negative numbers.  If you multiply a string by a boolean with value `True`, it just returns that same string.  And if you multiply a string by a boolean with value `False`, it returns an empty string (or a string with length zero)."
      ]
     },
     "metadata": {},
     "output_type": "display_data"
    }
   ],
   "source": [
    "# Check your answer (Run this code cell to receive credit!)\n",
    "q2.check()"
   ]
  },
  {
   "cell_type": "markdown",
   "id": "e6bcdb48",
   "metadata": {
    "papermill": {
     "duration": 0.005828,
     "end_time": "2025-02-26T13:40:30.830956",
     "exception": false,
     "start_time": "2025-02-26T13:40:30.825128",
     "status": "completed"
    },
    "tags": []
   },
   "source": [
    "# Question 3\n",
    "\n",
    "In this question, you will build off your work from the previous exercise to write a function that estimates the value of a house.\n",
    "\n",
    "Use the next code cell to create a function `get_expected_cost` that takes as input three variables:\n",
    "- `beds` - number of bedrooms (data type float)\n",
    "- `baths` - number of bathrooms (data type float)\n",
    "- `has_basement` - whether or not the house has a basement (data type boolean)\n",
    "\n",
    "It should return the expected cost of a house with those characteristics. Assume that:\n",
    "- the expected cost for a house with 0 bedrooms and 0 bathrooms, and no basement is 80000, \n",
    "- each bedroom adds 30000 to the expected cost,\n",
    "- each bathroom adds 10000 to the expected cost, and\n",
    "- a basement adds 40000 to the expected cost.\n",
    "\n",
    "For instance,\n",
    "- a house with 1 bedroom, 1 bathroom, and no basement has an expected cost of 80000 + 30000 + 10000 = 120000.  This value will be calculated with `get_expected_cost(1, 1, False)`.\n",
    "- a house with 2 bedrooms, 1 bathroom, and a basement has an expected cost of 80000 + 2*30000 + 10000 + 40000 = 190000.  This value will be calculated with `get_expected_cost(2, 1, True)`.\n",
    "\n",
    "Remember you can always get a hint by uncommenting `q3.hint()` in the code cell following the next!"
   ]
  },
  {
   "cell_type": "code",
   "execution_count": 7,
   "id": "cf09f0c5",
   "metadata": {
    "execution": {
     "iopub.execute_input": "2025-02-26T13:40:30.843806Z",
     "iopub.status.busy": "2025-02-26T13:40:30.843481Z",
     "iopub.status.idle": "2025-02-26T13:40:30.850882Z",
     "shell.execute_reply": "2025-02-26T13:40:30.849977Z"
    },
    "papermill": {
     "duration": 0.01583,
     "end_time": "2025-02-26T13:40:30.852596",
     "exception": false,
     "start_time": "2025-02-26T13:40:30.836766",
     "status": "completed"
    },
    "tags": []
   },
   "outputs": [
    {
     "data": {
      "application/javascript": [
       "parent.postMessage({\"jupyterEvent\": \"custom.exercise_interaction\", \"data\": {\"outcomeType\": 1, \"valueTowardsCompletion\": 0.2, \"interactionType\": 1, \"questionType\": 2, \"questionId\": \"3_EstimateHouseValueBool\", \"learnToolsVersion\": \"0.3.4\", \"failureMessage\": \"\", \"exceptionClass\": \"\", \"trace\": \"\"}}, \"*\")"
      ],
      "text/plain": [
       "<IPython.core.display.Javascript object>"
      ]
     },
     "metadata": {},
     "output_type": "display_data"
    },
    {
     "data": {
      "text/markdown": [
       "<span style=\"color:#33cc33\">Correct</span>"
      ],
      "text/plain": [
       "Correct"
      ]
     },
     "metadata": {},
     "output_type": "display_data"
    }
   ],
   "source": [
    "# TODO: Complete the function\n",
    "def get_expected_cost(beds, baths, has_basement):\n",
    "    value = 80000 + beds*30000 + baths*10000 + has_basement*40000\n",
    "    return value\n",
    "\n",
    "# Check your answer \n",
    "q3.check()"
   ]
  },
  {
   "cell_type": "code",
   "execution_count": 8,
   "id": "d2796f7e",
   "metadata": {
    "execution": {
     "iopub.execute_input": "2025-02-26T13:40:30.866467Z",
     "iopub.status.busy": "2025-02-26T13:40:30.866127Z",
     "iopub.status.idle": "2025-02-26T13:40:30.869724Z",
     "shell.execute_reply": "2025-02-26T13:40:30.868771Z"
    },
    "papermill": {
     "duration": 0.012363,
     "end_time": "2025-02-26T13:40:30.871389",
     "exception": false,
     "start_time": "2025-02-26T13:40:30.859026",
     "status": "completed"
    },
    "tags": []
   },
   "outputs": [],
   "source": [
    "# Uncomment to see a hint\n",
    "#q3.hint()\n",
    "\n",
    "# Uncomment to view the solution\n",
    "#q3.solution()"
   ]
  },
  {
   "cell_type": "markdown",
   "id": "2c4de53e",
   "metadata": {
    "papermill": {
     "duration": 0.005885,
     "end_time": "2025-02-26T13:40:30.883454",
     "exception": false,
     "start_time": "2025-02-26T13:40:30.877569",
     "status": "completed"
    },
    "tags": []
   },
   "source": [
    "# Question 4\n",
    "\n",
    "We'll continue our study of boolean arithmetic.  For this question, your task is to provide a description of what happpens when you add booleans. \n",
    "\n",
    "Use the next code cell for your investigation.  Feel free to add or remove any lines of code - use it as your workspace!"
   ]
  },
  {
   "cell_type": "code",
   "execution_count": 9,
   "id": "36ed85cc",
   "metadata": {
    "execution": {
     "iopub.execute_input": "2025-02-26T13:40:30.897428Z",
     "iopub.status.busy": "2025-02-26T13:40:30.897070Z",
     "iopub.status.idle": "2025-02-26T13:40:30.902725Z",
     "shell.execute_reply": "2025-02-26T13:40:30.901861Z"
    },
    "papermill": {
     "duration": 0.014446,
     "end_time": "2025-02-26T13:40:30.904138",
     "exception": false,
     "start_time": "2025-02-26T13:40:30.889692",
     "status": "completed"
    },
    "tags": []
   },
   "outputs": [
    {
     "name": "stdout",
     "output_type": "stream",
     "text": [
      "1\n",
      "0\n",
      "2\n",
      "1\n",
      "2\n"
     ]
    }
   ],
   "source": [
    "print(True + False)\n",
    "print(False + False)\n",
    "print(True+ True)\n",
    "print(False + True)\n",
    "print(False + True + False + True)"
   ]
  },
  {
   "cell_type": "markdown",
   "id": "7e1c2edf",
   "metadata": {
    "papermill": {
     "duration": 0.005811,
     "end_time": "2025-02-26T13:40:30.916285",
     "exception": false,
     "start_time": "2025-02-26T13:40:30.910474",
     "status": "completed"
    },
    "tags": []
   },
   "source": [
    "Once you have an answer, run the code cell below to see the solution.  Viewing the solution will give you credit for answering the problem."
   ]
  },
  {
   "cell_type": "code",
   "execution_count": 10,
   "id": "7d0be2a7",
   "metadata": {
    "execution": {
     "iopub.execute_input": "2025-02-26T13:40:30.929955Z",
     "iopub.status.busy": "2025-02-26T13:40:30.929630Z",
     "iopub.status.idle": "2025-02-26T13:40:30.936596Z",
     "shell.execute_reply": "2025-02-26T13:40:30.935722Z"
    },
    "papermill": {
     "duration": 0.015712,
     "end_time": "2025-02-26T13:40:30.938413",
     "exception": false,
     "start_time": "2025-02-26T13:40:30.922701",
     "status": "completed"
    },
    "tags": []
   },
   "outputs": [
    {
     "data": {
      "application/javascript": [
       "parent.postMessage({\"jupyterEvent\": \"custom.exercise_interaction\", \"data\": {\"outcomeType\": 1, \"valueTowardsCompletion\": 0.2, \"interactionType\": 1, \"questionType\": 4, \"questionId\": \"4_AddingBooleans\", \"learnToolsVersion\": \"0.3.4\", \"failureMessage\": \"\", \"exceptionClass\": \"\", \"trace\": \"\"}}, \"*\")"
      ],
      "text/plain": [
       "<IPython.core.display.Javascript object>"
      ]
     },
     "metadata": {},
     "output_type": "display_data"
    },
    {
     "data": {
      "text/markdown": [
       "<span style=\"color:#33cc33\">Correct:</span> \n",
       "\n",
       "When you add booleans, adding `False` is equivalent to adding 0, and adding `True` is equivalent to adding 1."
      ],
      "text/plain": [
       "Correct: \n",
       "\n",
       "When you add booleans, adding `False` is equivalent to adding 0, and adding `True` is equivalent to adding 1."
      ]
     },
     "metadata": {},
     "output_type": "display_data"
    }
   ],
   "source": [
    "# Check your answer (Run this code cell to receive credit!)\n",
    "q4.check()"
   ]
  },
  {
   "cell_type": "markdown",
   "id": "0e798283",
   "metadata": {
    "papermill": {
     "duration": 0.006115,
     "end_time": "2025-02-26T13:40:30.950921",
     "exception": false,
     "start_time": "2025-02-26T13:40:30.944806",
     "status": "completed"
    },
    "tags": []
   },
   "source": [
    "# 🌶️ Question 5\n",
    "\n",
    "You own an online shop where you sell rings with custom engravings.  You offer both gold plated and solid gold rings.\n",
    "- Gold plated rings have a base cost of \\\\$50, and you charge \\\\$7 per engraved unit.  \n",
    "- Solid gold rings have a base cost of \\\\$100, and you charge \\\\$10 per engraved unit.\n",
    "- Spaces and punctuation are counted as engraved units.\n",
    "\n",
    "Write a function `cost_of_project()` that takes two arguments:\n",
    "- `engraving` - a Python string with the text of the engraving\n",
    "- `solid_gold` - a Boolean that indicates whether the ring is solid gold\n",
    "\n",
    "It should return the cost of the project.  This question should be fairly challenging, and you may need a hint."
   ]
  },
  {
   "cell_type": "code",
   "execution_count": 11,
   "id": "d985a42c",
   "metadata": {
    "execution": {
     "iopub.execute_input": "2025-02-26T13:40:30.964732Z",
     "iopub.status.busy": "2025-02-26T13:40:30.964360Z",
     "iopub.status.idle": "2025-02-26T13:40:30.972765Z",
     "shell.execute_reply": "2025-02-26T13:40:30.971582Z"
    },
    "papermill": {
     "duration": 0.017326,
     "end_time": "2025-02-26T13:40:30.974469",
     "exception": false,
     "start_time": "2025-02-26T13:40:30.957143",
     "status": "completed"
    },
    "tags": []
   },
   "outputs": [
    {
     "data": {
      "application/javascript": [
       "parent.postMessage({\"jupyterEvent\": \"custom.exercise_interaction\", \"data\": {\"outcomeType\": 1, \"valueTowardsCompletion\": 0.2, \"interactionType\": 1, \"questionType\": 2, \"questionId\": \"5_CustomEngravings\", \"learnToolsVersion\": \"0.3.4\", \"failureMessage\": \"\", \"exceptionClass\": \"\", \"trace\": \"\"}}, \"*\")"
      ],
      "text/plain": [
       "<IPython.core.display.Javascript object>"
      ]
     },
     "metadata": {},
     "output_type": "display_data"
    },
    {
     "data": {
      "text/markdown": [
       "<span style=\"color:#33cc33\">Correct</span>"
      ],
      "text/plain": [
       "Correct"
      ]
     },
     "metadata": {},
     "output_type": "display_data"
    }
   ],
   "source": [
    "def cost_of_project(engraving, solid_gold):\n",
    "    engraved_units = engraving\n",
    "    cost = (solid_gold * 100 + (not solid_gold) * 50 ) + ((not solid_gold) * len(engraved_units)*7) + (solid_gold * len(engraved_units)*10)\n",
    "    return cost\n",
    "\n",
    "# Check your answer\n",
    "q5.check()"
   ]
  },
  {
   "cell_type": "code",
   "execution_count": 12,
   "id": "2056b11d",
   "metadata": {
    "execution": {
     "iopub.execute_input": "2025-02-26T13:40:30.989110Z",
     "iopub.status.busy": "2025-02-26T13:40:30.988743Z",
     "iopub.status.idle": "2025-02-26T13:40:30.992334Z",
     "shell.execute_reply": "2025-02-26T13:40:30.991461Z"
    },
    "papermill": {
     "duration": 0.012795,
     "end_time": "2025-02-26T13:40:30.993978",
     "exception": false,
     "start_time": "2025-02-26T13:40:30.981183",
     "status": "completed"
    },
    "tags": []
   },
   "outputs": [],
   "source": [
    "# Uncomment to see a hint\n",
    "#q5.hint()\n",
    "\n",
    "# Uncomment to view the solution\n",
    "#q5.solution()"
   ]
  },
  {
   "cell_type": "markdown",
   "id": "b70a7e96",
   "metadata": {
    "papermill": {
     "duration": 0.00637,
     "end_time": "2025-02-26T13:40:31.007061",
     "exception": false,
     "start_time": "2025-02-26T13:40:31.000691",
     "status": "completed"
    },
    "tags": []
   },
   "source": [
    "Run the next code cell to calculate the cost of engraving `Charlie+Denver` on a solid gold ring."
   ]
  },
  {
   "cell_type": "code",
   "execution_count": 13,
   "id": "41af6e7f",
   "metadata": {
    "execution": {
     "iopub.execute_input": "2025-02-26T13:40:31.021407Z",
     "iopub.status.busy": "2025-02-26T13:40:31.021018Z",
     "iopub.status.idle": "2025-02-26T13:40:31.026033Z",
     "shell.execute_reply": "2025-02-26T13:40:31.024783Z"
    },
    "papermill": {
     "duration": 0.01413,
     "end_time": "2025-02-26T13:40:31.027721",
     "exception": false,
     "start_time": "2025-02-26T13:40:31.013591",
     "status": "completed"
    },
    "tags": []
   },
   "outputs": [
    {
     "name": "stdout",
     "output_type": "stream",
     "text": [
      "200\n"
     ]
    }
   ],
   "source": [
    "project_one = cost_of_project(\"Shem+Owaga\", True)\n",
    "print(project_one)"
   ]
  },
  {
   "cell_type": "markdown",
   "id": "2a21a373",
   "metadata": {
    "papermill": {
     "duration": 0.006387,
     "end_time": "2025-02-26T13:40:31.040954",
     "exception": false,
     "start_time": "2025-02-26T13:40:31.034567",
     "status": "completed"
    },
    "tags": []
   },
   "source": [
    "Use the next code cell to calculate the cost of engraving `08/10/2000` on a gold plated ring."
   ]
  },
  {
   "cell_type": "code",
   "execution_count": 14,
   "id": "7653ddf6",
   "metadata": {
    "execution": {
     "iopub.execute_input": "2025-02-26T13:40:31.055599Z",
     "iopub.status.busy": "2025-02-26T13:40:31.055177Z",
     "iopub.status.idle": "2025-02-26T13:40:31.060805Z",
     "shell.execute_reply": "2025-02-26T13:40:31.059603Z"
    },
    "papermill": {
     "duration": 0.014992,
     "end_time": "2025-02-26T13:40:31.062651",
     "exception": false,
     "start_time": "2025-02-26T13:40:31.047659",
     "status": "completed"
    },
    "tags": []
   },
   "outputs": [
    {
     "name": "stdout",
     "output_type": "stream",
     "text": [
      "120\n"
     ]
    }
   ],
   "source": [
    "project_two = cost_of_project(\"10/10/2010\", False)\n",
    "print(project_two)"
   ]
  },
  {
   "cell_type": "markdown",
   "id": "6cf8df45",
   "metadata": {
    "papermill": {
     "duration": 0.006414,
     "end_time": "2025-02-26T13:40:31.076115",
     "exception": false,
     "start_time": "2025-02-26T13:40:31.069701",
     "status": "completed"
    },
    "tags": []
   },
   "source": [
    "# Keep going\n",
    "\n",
    "Continue to the next lesson to **[learn about conditions and conditional statements](https://www.kaggle.com/alexisbcook/conditions-and-conditional-statements)**."
   ]
  },
  {
   "cell_type": "markdown",
   "id": "44c193f4",
   "metadata": {
    "papermill": {
     "duration": 0.006735,
     "end_time": "2025-02-26T13:40:31.089629",
     "exception": false,
     "start_time": "2025-02-26T13:40:31.082894",
     "status": "completed"
    },
    "tags": []
   },
   "source": [
    "---\n",
    "\n",
    "\n",
    "\n",
    "\n",
    "*Have questions or comments? Visit the [course discussion forum](https://www.kaggle.com/learn/intro-to-programming/discussion) to chat with other learners.*"
   ]
  }
 ],
 "metadata": {
  "kaggle": {
   "accelerator": "none",
   "dataSources": [],
   "isGpuEnabled": false,
   "isInternetEnabled": false,
   "language": "python",
   "sourceType": "notebook"
  },
  "kernelspec": {
   "display_name": "Python 3",
   "language": "python",
   "name": "python3"
  },
  "language_info": {
   "codemirror_mode": {
    "name": "ipython",
    "version": 3
   },
   "file_extension": ".py",
   "mimetype": "text/x-python",
   "name": "python",
   "nbconvert_exporter": "python",
   "pygments_lexer": "ipython3",
   "version": "3.10.12"
  },
  "papermill": {
   "default_parameters": {},
   "duration": 4.600352,
   "end_time": "2025-02-26T13:40:31.616612",
   "environment_variables": {},
   "exception": null,
   "input_path": "__notebook__.ipynb",
   "output_path": "__notebook__.ipynb",
   "parameters": {},
   "start_time": "2025-02-26T13:40:27.016260",
   "version": "2.3.3"
  }
 },
 "nbformat": 4,
 "nbformat_minor": 5
}
