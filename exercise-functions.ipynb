{
 "cells": [
  {
   "cell_type": "markdown",
   "id": "1a073f3f",
   "metadata": {
    "papermill": {
     "duration": 0.005574,
     "end_time": "2025-02-26T12:58:05.652873",
     "exception": false,
     "start_time": "2025-02-26T12:58:05.647299",
     "status": "completed"
    },
    "tags": []
   },
   "source": [
    "**This notebook is an exercise in the [Intro to Programming](https://www.kaggle.com/learn/intro-to-programming) course.  You can reference the tutorial at [this link](https://www.kaggle.com/alexisbcook/functions).**\n",
    "\n",
    "---\n"
   ]
  },
  {
   "cell_type": "markdown",
   "id": "14dfc29c",
   "metadata": {
    "papermill": {
     "duration": 0.005057,
     "end_time": "2025-02-26T12:58:05.663541",
     "exception": false,
     "start_time": "2025-02-26T12:58:05.658484",
     "status": "completed"
    },
    "tags": []
   },
   "source": [
    "In the tutorial, you learned about functions. In this exercise, you'll write some of your own!\n",
    "\n",
    "# Set up the notebook\n",
    "\n",
    "Run the next code cell without changes to set up the notebook."
   ]
  },
  {
   "cell_type": "code",
   "execution_count": 1,
   "id": "234773a3",
   "metadata": {
    "execution": {
     "iopub.execute_input": "2025-02-26T12:58:05.674788Z",
     "iopub.status.busy": "2025-02-26T12:58:05.674417Z",
     "iopub.status.idle": "2025-02-26T12:58:06.692038Z",
     "shell.execute_reply": "2025-02-26T12:58:06.690846Z"
    },
    "papermill": {
     "duration": 1.025294,
     "end_time": "2025-02-26T12:58:06.693884",
     "exception": false,
     "start_time": "2025-02-26T12:58:05.668590",
     "status": "completed"
    },
    "tags": []
   },
   "outputs": [
    {
     "name": "stdout",
     "output_type": "stream",
     "text": [
      "Setup complete.\n"
     ]
    }
   ],
   "source": [
    "# Set up the exercise\n",
    "import math\n",
    "from learntools.core import binder\n",
    "binder.bind(globals())\n",
    "from learntools.intro_to_programming.ex2 import *\n",
    "print('Setup complete.')"
   ]
  },
  {
   "cell_type": "markdown",
   "id": "70f6f765",
   "metadata": {
    "papermill": {
     "duration": 0.004555,
     "end_time": "2025-02-26T12:58:06.703715",
     "exception": false,
     "start_time": "2025-02-26T12:58:06.699160",
     "status": "completed"
    },
    "tags": []
   },
   "source": [
    "# Question 1\n",
    "\n",
    "In the [House Prices - Advanced Regression Techniques competition](https://www.kaggle.com/c/house-prices-advanced-regression-techniques/overview), you need to use information like the number of bedrooms and bathrooms to predict the price of a house.  Inspired by this competition, you'll write your own function to do this.\n",
    "\n",
    "In the next code cell, create a function `get_expected_cost()` that has two arguments:\n",
    "- `beds` - number of bedrooms \n",
    "- `baths` - number of bathrooms\n",
    "\n",
    "It should return the expected cost of a house with that number of bedrooms and bathrooms.  Assume that:\n",
    "- the expected cost for a house with 0 bedrooms and 0 bathrooms is `80000`.  \n",
    "- each bedroom adds `30000` to the expected cost\n",
    "- each bathroom adds `10000` to the expected cost.\n",
    "\n",
    "For instance, \n",
    "- a house with 1 bedroom and 1 bathroom has an expected cost of `120000`, and \n",
    "- a house with 2 bedrooms and 1 bathroom has an expected cost of `150000`."
   ]
  },
  {
   "cell_type": "code",
   "execution_count": 2,
   "id": "2a603556",
   "metadata": {
    "execution": {
     "iopub.execute_input": "2025-02-26T12:58:06.715229Z",
     "iopub.status.busy": "2025-02-26T12:58:06.714666Z",
     "iopub.status.idle": "2025-02-26T12:58:06.724424Z",
     "shell.execute_reply": "2025-02-26T12:58:06.723096Z"
    },
    "papermill": {
     "duration": 0.017401,
     "end_time": "2025-02-26T12:58:06.726174",
     "exception": false,
     "start_time": "2025-02-26T12:58:06.708773",
     "status": "completed"
    },
    "tags": []
   },
   "outputs": [
    {
     "data": {
      "application/javascript": [
       "parent.postMessage({\"jupyterEvent\": \"custom.exercise_interaction\", \"data\": {\"outcomeType\": 1, \"valueTowardsCompletion\": 0.2, \"interactionType\": 1, \"questionType\": 2, \"questionId\": \"1_GetExpectedCost\", \"learnToolsVersion\": \"0.3.4\", \"failureMessage\": \"\", \"exceptionClass\": \"\", \"trace\": \"\"}}, \"*\")"
      ],
      "text/plain": [
       "<IPython.core.display.Javascript object>"
      ]
     },
     "metadata": {},
     "output_type": "display_data"
    },
    {
     "data": {
      "text/markdown": [
       "<span style=\"color:#33cc33\">Correct</span>"
      ],
      "text/plain": [
       "Correct"
      ]
     },
     "metadata": {},
     "output_type": "display_data"
    }
   ],
   "source": [
    "# TODO: Complete the function\n",
    "def get_expected_cost(beds, baths):\n",
    "    house_alone = 80000\n",
    "    bedroom_alone = 30000*beds\n",
    "    bathroom_alone = 10000*baths\n",
    "    \n",
    "    value = house_alone + bedroom_alone + bathroom_alone\n",
    "    return value\n",
    "\n",
    "# Check your answer \n",
    "q1.check()"
   ]
  },
  {
   "cell_type": "code",
   "execution_count": 3,
   "id": "6ca07d76",
   "metadata": {
    "execution": {
     "iopub.execute_input": "2025-02-26T12:58:06.738470Z",
     "iopub.status.busy": "2025-02-26T12:58:06.738049Z",
     "iopub.status.idle": "2025-02-26T12:58:06.742043Z",
     "shell.execute_reply": "2025-02-26T12:58:06.740952Z"
    },
    "papermill": {
     "duration": 0.012076,
     "end_time": "2025-02-26T12:58:06.743730",
     "exception": false,
     "start_time": "2025-02-26T12:58:06.731654",
     "status": "completed"
    },
    "tags": []
   },
   "outputs": [],
   "source": [
    "# Uncomment to see a hint\n",
    "#q1.hint()\n",
    "\n",
    "# Uncomment to view the solution\n",
    " #q1.solution()"
   ]
  },
  {
   "cell_type": "markdown",
   "id": "c825a869",
   "metadata": {
    "papermill": {
     "duration": 0.004846,
     "end_time": "2025-02-26T12:58:06.753889",
     "exception": false,
     "start_time": "2025-02-26T12:58:06.749043",
     "status": "completed"
    },
    "tags": []
   },
   "source": [
    "# Question 2\n",
    "\n",
    "You are thinking about buying a home and want to get an idea of how much you will spend, based on the number of bedrooms and bathrooms.  You are trying to decide between four different options:\n",
    "- Option 1: house with two bedrooms and three bathrooms\n",
    "- Option 2: house with three bedrooms and two bathrooms\n",
    "- Option 3: house with three bedrooms and three bathrooms\n",
    "- Option 4: house with three bedrooms and four bathrooms\n",
    "\n",
    "Use the `get_expected_cost()` function you defined in question 1 to set `option_1`, `option_2`, `option_3`, and `option_4` to the expected cost of each option."
   ]
  },
  {
   "cell_type": "code",
   "execution_count": 4,
   "id": "170961d0",
   "metadata": {
    "execution": {
     "iopub.execute_input": "2025-02-26T12:58:06.765603Z",
     "iopub.status.busy": "2025-02-26T12:58:06.765201Z",
     "iopub.status.idle": "2025-02-26T12:58:06.776111Z",
     "shell.execute_reply": "2025-02-26T12:58:06.774848Z"
    },
    "papermill": {
     "duration": 0.018674,
     "end_time": "2025-02-26T12:58:06.777775",
     "exception": false,
     "start_time": "2025-02-26T12:58:06.759101",
     "status": "completed"
    },
    "tags": []
   },
   "outputs": [
    {
     "name": "stdout",
     "output_type": "stream",
     "text": [
      "170000\n",
      "190000\n",
      "200000\n",
      "210000\n"
     ]
    },
    {
     "data": {
      "application/javascript": [
       "parent.postMessage({\"jupyterEvent\": \"custom.exercise_interaction\", \"data\": {\"outcomeType\": 1, \"valueTowardsCompletion\": 0.2, \"interactionType\": 1, \"questionType\": 1, \"questionId\": \"2_RunGetExpectedCost\", \"learnToolsVersion\": \"0.3.4\", \"failureMessage\": \"\", \"exceptionClass\": \"\", \"trace\": \"\"}}, \"*\")"
      ],
      "text/plain": [
       "<IPython.core.display.Javascript object>"
      ]
     },
     "metadata": {},
     "output_type": "display_data"
    },
    {
     "data": {
      "text/markdown": [
       "<span style=\"color:#33cc33\">Correct</span>"
      ],
      "text/plain": [
       "Correct"
      ]
     },
     "metadata": {},
     "output_type": "display_data"
    }
   ],
   "source": [
    "# TODO: Use the get_expected_cost function to fill in each value\n",
    "option_one = 170000\n",
    "option_two = 190000\n",
    "option_three = 200000\n",
    "option_four = 210000\n",
    "\n",
    "print(option_one)\n",
    "print(option_two)\n",
    "print(option_three)\n",
    "print(option_four)\n",
    "\n",
    "# Check your answer\n",
    "q2.check()"
   ]
  },
  {
   "cell_type": "code",
   "execution_count": 5,
   "id": "dca449ea",
   "metadata": {
    "execution": {
     "iopub.execute_input": "2025-02-26T12:58:06.790415Z",
     "iopub.status.busy": "2025-02-26T12:58:06.789970Z",
     "iopub.status.idle": "2025-02-26T12:58:06.793733Z",
     "shell.execute_reply": "2025-02-26T12:58:06.792678Z"
    },
    "papermill": {
     "duration": 0.0121,
     "end_time": "2025-02-26T12:58:06.795487",
     "exception": false,
     "start_time": "2025-02-26T12:58:06.783387",
     "status": "completed"
    },
    "tags": []
   },
   "outputs": [],
   "source": [
    "# Uncomment to see a hint\n",
    "#q2.hint()\n",
    "\n",
    "# Uncomment to view the solution\n",
    "#q2.solution()"
   ]
  },
  {
   "cell_type": "markdown",
   "id": "ea1324bb",
   "metadata": {
    "papermill": {
     "duration": 0.005336,
     "end_time": "2025-02-26T12:58:06.806644",
     "exception": false,
     "start_time": "2025-02-26T12:58:06.801308",
     "status": "completed"
    },
    "tags": []
   },
   "source": [
    "# Question 3\n",
    "\n",
    "You're a home decorator, and you'd like to use Python to streamline some of your work.  Specifically, you're creating a tool that you intend to use to calculate the cost of painting a room.\n",
    "\n",
    "As a first step, define a function `get_cost()` that takes as input:\n",
    "- `sqft_walls` = total square feet of walls to be painted\n",
    "- `sqft_ceiling` = square feet of ceiling to be painted\n",
    "- `sqft_per_gallon` = number of square feet that you can cover with one gallon of paint\n",
    "- `cost_per_gallon` = cost (in dollars) of one gallon of paint\n",
    "\n",
    "It should return the cost (in dollars) of putting one coat of paint on all walls and the ceiling.  Assume you can buy the exact amount of paint that you need, so you can buy partial gallons (e.g., if you need 7.523 gallons, you can buy that exact amount, instead of needing to buy 8 gallons and waste some paint).  Do not round your answer."
   ]
  },
  {
   "cell_type": "code",
   "execution_count": 6,
   "id": "3addeaae",
   "metadata": {
    "execution": {
     "iopub.execute_input": "2025-02-26T12:58:06.818834Z",
     "iopub.status.busy": "2025-02-26T12:58:06.818445Z",
     "iopub.status.idle": "2025-02-26T12:58:06.826137Z",
     "shell.execute_reply": "2025-02-26T12:58:06.825140Z"
    },
    "papermill": {
     "duration": 0.015606,
     "end_time": "2025-02-26T12:58:06.827641",
     "exception": false,
     "start_time": "2025-02-26T12:58:06.812035",
     "status": "completed"
    },
    "tags": []
   },
   "outputs": [
    {
     "data": {
      "application/javascript": [
       "parent.postMessage({\"jupyterEvent\": \"custom.exercise_interaction\", \"data\": {\"outcomeType\": 1, \"valueTowardsCompletion\": 0.2, \"interactionType\": 1, \"questionType\": 2, \"questionId\": \"3_GetCostPaint\", \"learnToolsVersion\": \"0.3.4\", \"failureMessage\": \"\", \"exceptionClass\": \"\", \"trace\": \"\"}}, \"*\")"
      ],
      "text/plain": [
       "<IPython.core.display.Javascript object>"
      ]
     },
     "metadata": {},
     "output_type": "display_data"
    },
    {
     "data": {
      "text/markdown": [
       "<span style=\"color:#33cc33\">Correct</span>"
      ],
      "text/plain": [
       "Correct"
      ]
     },
     "metadata": {},
     "output_type": "display_data"
    }
   ],
   "source": [
    "# TODO: Finish defining the function\n",
    "def get_cost(sqft_walls, sqft_ceiling, sqft_per_gallon, cost_per_gallon):\n",
    "    total_sqft = sqft_walls + sqft_ceiling\n",
    "    gallons_required = total_sqft/sqft_per_gallon\n",
    "    cost = gallons_required * cost_per_gallon\n",
    "    return cost\n",
    "\n",
    "# Check your answer\n",
    "q3.check()"
   ]
  },
  {
   "cell_type": "code",
   "execution_count": 7,
   "id": "8c7586c1",
   "metadata": {
    "execution": {
     "iopub.execute_input": "2025-02-26T12:58:06.840426Z",
     "iopub.status.busy": "2025-02-26T12:58:06.840023Z",
     "iopub.status.idle": "2025-02-26T12:58:06.843646Z",
     "shell.execute_reply": "2025-02-26T12:58:06.842593Z"
    },
    "papermill": {
     "duration": 0.011925,
     "end_time": "2025-02-26T12:58:06.845382",
     "exception": false,
     "start_time": "2025-02-26T12:58:06.833457",
     "status": "completed"
    },
    "tags": []
   },
   "outputs": [],
   "source": [
    "# Uncomment to see a hint\n",
    "#q3.hint()\n",
    "\n",
    "# Uncomment to view the solution\n",
    "#q3.solution()"
   ]
  },
  {
   "cell_type": "markdown",
   "id": "3aac965b",
   "metadata": {
    "papermill": {
     "duration": 0.005342,
     "end_time": "2025-02-26T12:58:06.856574",
     "exception": false,
     "start_time": "2025-02-26T12:58:06.851232",
     "status": "completed"
    },
    "tags": []
   },
   "source": [
    "# Question 4\n",
    "\n",
    "Use the `get_cost()` function you defined in Question 3 to calculate the cost of applying one coat of paint to a room with:\n",
    "- 432 square feet of walls, and\n",
    "- 144 square feet of ceiling.\n",
    "\n",
    "Assume that one gallon of paint covers 400 square feet and costs $15.  As in Question 3, assume you can buy partial gallons of paint.  Do not round your answer."
   ]
  },
  {
   "cell_type": "code",
   "execution_count": 8,
   "id": "e5976326",
   "metadata": {
    "execution": {
     "iopub.execute_input": "2025-02-26T12:58:06.869296Z",
     "iopub.status.busy": "2025-02-26T12:58:06.868856Z",
     "iopub.status.idle": "2025-02-26T12:58:06.876411Z",
     "shell.execute_reply": "2025-02-26T12:58:06.875538Z"
    },
    "papermill": {
     "duration": 0.015794,
     "end_time": "2025-02-26T12:58:06.878020",
     "exception": false,
     "start_time": "2025-02-26T12:58:06.862226",
     "status": "completed"
    },
    "tags": []
   },
   "outputs": [
    {
     "data": {
      "application/javascript": [
       "parent.postMessage({\"jupyterEvent\": \"custom.exercise_interaction\", \"data\": {\"outcomeType\": 1, \"valueTowardsCompletion\": 0.2, \"interactionType\": 1, \"questionType\": 1, \"questionId\": \"4_GetCostPaintExample\", \"learnToolsVersion\": \"0.3.4\", \"failureMessage\": \"\", \"exceptionClass\": \"\", \"trace\": \"\"}}, \"*\")"
      ],
      "text/plain": [
       "<IPython.core.display.Javascript object>"
      ]
     },
     "metadata": {},
     "output_type": "display_data"
    },
    {
     "data": {
      "text/markdown": [
       "<span style=\"color:#33cc33\">Correct</span>"
      ],
      "text/plain": [
       "Correct"
      ]
     },
     "metadata": {},
     "output_type": "display_data"
    }
   ],
   "source": [
    "# TODO: Set the project_cost variable to the cost of the project\n",
    "project_cost = 21.599999999999998\n",
    "\n",
    "# Check your answer\n",
    "q4.check()"
   ]
  },
  {
   "cell_type": "code",
   "execution_count": 9,
   "id": "05a1a56d",
   "metadata": {
    "execution": {
     "iopub.execute_input": "2025-02-26T12:58:06.891875Z",
     "iopub.status.busy": "2025-02-26T12:58:06.891523Z",
     "iopub.status.idle": "2025-02-26T12:58:06.895510Z",
     "shell.execute_reply": "2025-02-26T12:58:06.894232Z"
    },
    "papermill": {
     "duration": 0.012909,
     "end_time": "2025-02-26T12:58:06.897448",
     "exception": false,
     "start_time": "2025-02-26T12:58:06.884539",
     "status": "completed"
    },
    "tags": []
   },
   "outputs": [],
   "source": [
    "# Uncomment to see a hint\n",
    "#q4.hint()\n",
    "\n",
    "# Uncomment to view the solution\n",
    "#q4.solution()"
   ]
  },
  {
   "cell_type": "markdown",
   "id": "a77cc3fc",
   "metadata": {
    "papermill": {
     "duration": 0.005724,
     "end_time": "2025-02-26T12:58:06.909800",
     "exception": false,
     "start_time": "2025-02-26T12:58:06.904076",
     "status": "completed"
    },
    "tags": []
   },
   "source": [
    "# 🌶️ Question 5\n",
    "\n",
    "Now say you can no longer buy fractions of a gallon.  (For instance, if you need 4.3 gallons to do a project, then you have to buy 5 gallons of paint.)\n",
    "\n",
    "With this new scenario, you will create a new function `get_actual_cost` that uses the same inputs and calculates the cost of your project.\n",
    "\n",
    "One function that you'll need to use to do this is `math.ceil()`.  We demonstrate usage of this function in the code cell below.  It takes as a number as input and rounds the number up to the nearest integer.  \n",
    "\n",
    "Run the next code cell to test this function for yourself.  Feel free to change the value of `test_value` and make sure `math.ceil()` returns the number you expect."
   ]
  },
  {
   "cell_type": "code",
   "execution_count": 10,
   "id": "5c811285",
   "metadata": {
    "execution": {
     "iopub.execute_input": "2025-02-26T12:58:06.923126Z",
     "iopub.status.busy": "2025-02-26T12:58:06.922748Z",
     "iopub.status.idle": "2025-02-26T12:58:06.927610Z",
     "shell.execute_reply": "2025-02-26T12:58:06.926584Z"
    },
    "papermill": {
     "duration": 0.01344,
     "end_time": "2025-02-26T12:58:06.929229",
     "exception": false,
     "start_time": "2025-02-26T12:58:06.915789",
     "status": "completed"
    },
    "tags": []
   },
   "outputs": [
    {
     "name": "stdout",
     "output_type": "stream",
     "text": [
      "3\n"
     ]
    }
   ],
   "source": [
    "test_value = 2.17\n",
    "\n",
    "rounded_value = math.ceil(test_value)\n",
    "print(rounded_value)"
   ]
  },
  {
   "cell_type": "markdown",
   "id": "88c651b2",
   "metadata": {
    "papermill": {
     "duration": 0.005747,
     "end_time": "2025-02-26T12:58:06.941367",
     "exception": false,
     "start_time": "2025-02-26T12:58:06.935620",
     "status": "completed"
    },
    "tags": []
   },
   "source": [
    "Use the next code cell to define the function `get_actual_cost()`.  You'll need to use the `math.ceil()` function to do this.\n",
    "\n",
    "When answering this question, note that it's completely valid to define a function that makes use of another function.  For instance, we can define a function `round_up_and_divide_by_three` that makes use of the `math.ceil` function:\n",
    "```\n",
    "def round_up_and_divide_by_three(num):\n",
    "    new_value = math.ceil(num)\n",
    "    final_value = new_value / 3\n",
    "    return final_value\n",
    "```"
   ]
  },
  {
   "cell_type": "code",
   "execution_count": 11,
   "id": "332ebb8c",
   "metadata": {
    "execution": {
     "iopub.execute_input": "2025-02-26T12:58:06.954827Z",
     "iopub.status.busy": "2025-02-26T12:58:06.954480Z",
     "iopub.status.idle": "2025-02-26T12:58:06.962415Z",
     "shell.execute_reply": "2025-02-26T12:58:06.961367Z"
    },
    "papermill": {
     "duration": 0.016641,
     "end_time": "2025-02-26T12:58:06.964012",
     "exception": false,
     "start_time": "2025-02-26T12:58:06.947371",
     "status": "completed"
    },
    "tags": []
   },
   "outputs": [
    {
     "data": {
      "application/javascript": [
       "parent.postMessage({\"jupyterEvent\": \"custom.exercise_interaction\", \"data\": {\"outcomeType\": 2, \"failureMessage\": \"Expected return value of `30` given `sqft_walls=432`, `sqft_ceiling=144`, `sqft_per_gallon=400`, `cost_per_gallon=15`, but got `17` instead.\", \"interactionType\": 1, \"questionType\": 2, \"questionId\": \"5_NoMoreFractions\", \"learnToolsVersion\": \"0.3.4\", \"valueTowardsCompletion\": 0.0, \"exceptionClass\": \"\", \"trace\": \"\"}}, \"*\")"
      ],
      "text/plain": [
       "<IPython.core.display.Javascript object>"
      ]
     },
     "metadata": {},
     "output_type": "display_data"
    },
    {
     "data": {
      "text/markdown": [
       "<span style=\"color:#cc3333\">Incorrect:</span> Expected return value of `30` given `sqft_walls=432`, `sqft_ceiling=144`, `sqft_per_gallon=400`, `cost_per_gallon=15`, but got `17` instead."
      ],
      "text/plain": [
       "Incorrect: Expected return value of `30` given `sqft_walls=432`, `sqft_ceiling=144`, `sqft_per_gallon=400`, `cost_per_gallon=15`, but got `17` instead."
      ]
     },
     "metadata": {},
     "output_type": "display_data"
    }
   ],
   "source": [
    "def get_actual_cost(sqft_walls, sqft_ceiling, sqft_per_gallon, cost_per_gallon):\n",
    "    total_sqft = sqft_walls + sqft_ceiling\n",
    "    gallons_required = total_sqft/sqft_per_gallon\n",
    "    total_gallons = math.ceil(gallons_required)\n",
    "    cost = total_gallons + cost_per_gallon\n",
    "    return cost\n",
    "\n",
    "# Check your answer\n",
    "q5.check()"
   ]
  },
  {
   "cell_type": "code",
   "execution_count": 12,
   "id": "b0892f0b",
   "metadata": {
    "execution": {
     "iopub.execute_input": "2025-02-26T12:58:06.978661Z",
     "iopub.status.busy": "2025-02-26T12:58:06.978306Z",
     "iopub.status.idle": "2025-02-26T12:58:06.989015Z",
     "shell.execute_reply": "2025-02-26T12:58:06.987886Z"
    },
    "papermill": {
     "duration": 0.020194,
     "end_time": "2025-02-26T12:58:06.990915",
     "exception": false,
     "start_time": "2025-02-26T12:58:06.970721",
     "status": "completed"
    },
    "tags": []
   },
   "outputs": [
    {
     "data": {
      "application/javascript": [
       "parent.postMessage({\"jupyterEvent\": \"custom.exercise_interaction\", \"data\": {\"interactionType\": 2, \"questionType\": 2, \"questionId\": \"5_NoMoreFractions\", \"learnToolsVersion\": \"0.3.4\", \"valueTowardsCompletion\": 0.0, \"failureMessage\": \"\", \"exceptionClass\": \"\", \"trace\": \"\", \"outcomeType\": 4}}, \"*\")"
      ],
      "text/plain": [
       "<IPython.core.display.Javascript object>"
      ]
     },
     "metadata": {},
     "output_type": "display_data"
    },
    {
     "data": {
      "text/markdown": [
       "<span style=\"color:#3366cc\">Hint:</span> Begin with the `get_cost()` function as a starting point.  The only change you need to make is to add `math.ceil()` to round up the number of gallons that need to be purchased. Can you figure out where to add it to the function?"
      ],
      "text/plain": [
       "Hint: Begin with the `get_cost()` function as a starting point.  The only change you need to make is to add `math.ceil()` to round up the number of gallons that need to be purchased. Can you figure out where to add it to the function?"
      ]
     },
     "metadata": {},
     "output_type": "display_data"
    },
    {
     "data": {
      "application/javascript": [
       "parent.postMessage({\"jupyterEvent\": \"custom.exercise_interaction\", \"data\": {\"interactionType\": 3, \"questionType\": 2, \"questionId\": \"5_NoMoreFractions\", \"learnToolsVersion\": \"0.3.4\", \"valueTowardsCompletion\": 0.0, \"failureMessage\": \"\", \"exceptionClass\": \"\", \"trace\": \"\", \"outcomeType\": 4}}, \"*\")"
      ],
      "text/plain": [
       "<IPython.core.display.Javascript object>"
      ]
     },
     "metadata": {},
     "output_type": "display_data"
    },
    {
     "data": {
      "text/markdown": [
       "<span style=\"color:#33cc99\">Solution:</span> \n",
       "```python\n",
       "def get_actual_cost(sqft_walls, sqft_ceiling, sqft_per_gallon, cost_per_gallon):\n",
       "    total_sqft = sqft_walls + sqft_ceiling\n",
       "    gallons_needed = total_sqft / sqft_per_gallon\n",
       "    gallons_to_buy = math.ceil(gallons_needed)\n",
       "    cost = cost_per_gallon * gallons_to_buy\n",
       "    return cost\n",
       "\n",
       "```"
      ],
      "text/plain": [
       "Solution: \n",
       "```python\n",
       "def get_actual_cost(sqft_walls, sqft_ceiling, sqft_per_gallon, cost_per_gallon):\n",
       "    total_sqft = sqft_walls + sqft_ceiling\n",
       "    gallons_needed = total_sqft / sqft_per_gallon\n",
       "    gallons_to_buy = math.ceil(gallons_needed)\n",
       "    cost = cost_per_gallon * gallons_to_buy\n",
       "    return cost\n",
       "\n",
       "```"
      ]
     },
     "metadata": {},
     "output_type": "display_data"
    }
   ],
   "source": [
    "# Uncomment to see a hint\n",
    "q5.hint()\n",
    "\n",
    "# Uncomment to view the solution\n",
    "q5.solution()"
   ]
  },
  {
   "cell_type": "markdown",
   "id": "3830dc30",
   "metadata": {
    "papermill": {
     "duration": 0.007239,
     "end_time": "2025-02-26T12:58:07.005649",
     "exception": false,
     "start_time": "2025-02-26T12:58:06.998410",
     "status": "completed"
    },
    "tags": []
   },
   "source": [
    "Once your function is verified as correct, run the next code cell to calculate the updated cost of your project."
   ]
  },
  {
   "cell_type": "code",
   "execution_count": 13,
   "id": "e53fe587",
   "metadata": {
    "execution": {
     "iopub.execute_input": "2025-02-26T12:58:07.020500Z",
     "iopub.status.busy": "2025-02-26T12:58:07.020081Z",
     "iopub.status.idle": "2025-02-26T12:58:07.026406Z",
     "shell.execute_reply": "2025-02-26T12:58:07.025342Z"
    },
    "papermill": {
     "duration": 0.015713,
     "end_time": "2025-02-26T12:58:07.028078",
     "exception": false,
     "start_time": "2025-02-26T12:58:07.012365",
     "status": "completed"
    },
    "tags": []
   },
   "outputs": [
    {
     "data": {
      "text/plain": [
       "17"
      ]
     },
     "execution_count": 13,
     "metadata": {},
     "output_type": "execute_result"
    }
   ],
   "source": [
    "get_actual_cost(432, 144, 400, 15) "
   ]
  },
  {
   "cell_type": "markdown",
   "id": "a7fa53af",
   "metadata": {
    "papermill": {
     "duration": 0.006545,
     "end_time": "2025-02-26T12:58:07.041745",
     "exception": false,
     "start_time": "2025-02-26T12:58:07.035200",
     "status": "completed"
    },
    "tags": []
   },
   "source": [
    "Say you're working with a slightly larger room.  Run the next code cell to calculate the cost of the project."
   ]
  },
  {
   "cell_type": "code",
   "execution_count": 14,
   "id": "8cdc5466",
   "metadata": {
    "execution": {
     "iopub.execute_input": "2025-02-26T12:58:07.057139Z",
     "iopub.status.busy": "2025-02-26T12:58:07.056767Z",
     "iopub.status.idle": "2025-02-26T12:58:07.062526Z",
     "shell.execute_reply": "2025-02-26T12:58:07.061403Z"
    },
    "papermill": {
     "duration": 0.015458,
     "end_time": "2025-02-26T12:58:07.064078",
     "exception": false,
     "start_time": "2025-02-26T12:58:07.048620",
     "status": "completed"
    },
    "tags": []
   },
   "outputs": [
    {
     "data": {
      "text/plain": [
       "18"
      ]
     },
     "execution_count": 14,
     "metadata": {},
     "output_type": "execute_result"
    }
   ],
   "source": [
    "get_actual_cost(594, 288, 400, 15) "
   ]
  },
  {
   "cell_type": "markdown",
   "id": "d94dd348",
   "metadata": {
    "papermill": {
     "duration": 0.006598,
     "end_time": "2025-02-26T12:58:07.077764",
     "exception": false,
     "start_time": "2025-02-26T12:58:07.071166",
     "status": "completed"
    },
    "tags": []
   },
   "source": [
    "# Keep going\n",
    "\n",
    "Continue to learn about **[data types](https://www.kaggle.com/alexisbcook/data-types)**."
   ]
  },
  {
   "cell_type": "markdown",
   "id": "558ca3c9",
   "metadata": {
    "papermill": {
     "duration": 0.006521,
     "end_time": "2025-02-26T12:58:07.091228",
     "exception": false,
     "start_time": "2025-02-26T12:58:07.084707",
     "status": "completed"
    },
    "tags": []
   },
   "source": [
    "---\n",
    "\n",
    "\n",
    "\n",
    "\n",
    "*Have questions or comments? Visit the [course discussion forum](https://www.kaggle.com/learn/intro-to-programming/discussion) to chat with other learners.*"
   ]
  }
 ],
 "metadata": {
  "kaggle": {
   "accelerator": "none",
   "dataSources": [],
   "isGpuEnabled": false,
   "isInternetEnabled": false,
   "language": "python",
   "sourceType": "notebook"
  },
  "kernelspec": {
   "display_name": "Python 3",
   "language": "python",
   "name": "python3"
  },
  "language_info": {
   "codemirror_mode": {
    "name": "ipython",
    "version": 3
   },
   "file_extension": ".py",
   "mimetype": "text/x-python",
   "name": "python",
   "nbconvert_exporter": "python",
   "pygments_lexer": "ipython3",
   "version": "3.10.12"
  },
  "papermill": {
   "default_parameters": {},
   "duration": 4.953033,
   "end_time": "2025-02-26T12:58:07.719081",
   "environment_variables": {},
   "exception": null,
   "input_path": "__notebook__.ipynb",
   "output_path": "__notebook__.ipynb",
   "parameters": {},
   "start_time": "2025-02-26T12:58:02.766048",
   "version": "2.6.0"
  }
 },
 "nbformat": 4,
 "nbformat_minor": 5
}
